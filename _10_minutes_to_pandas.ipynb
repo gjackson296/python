{
 "cells": [
  {
   "cell_type": "code",
   "execution_count": 1,
   "metadata": {
    "collapsed": true
   },
   "outputs": [],
   "source": [
    "# pandas intro\n",
    "# source: http://pandas.pydata.org/pandas-docs/stable/10min.html"
   ]
  },
  {
   "cell_type": "code",
   "execution_count": 2,
   "metadata": {
    "collapsed": true
   },
   "outputs": [],
   "source": [
    "# import\n",
    "import pandas as pd\n",
    "import numpy as np\n",
    "import matplotlib.pyplot as plt"
   ]
  },
  {
   "cell_type": "code",
   "execution_count": 3,
   "metadata": {
    "collapsed": true
   },
   "outputs": [],
   "source": [
    "# make a series; default index\n",
    "s = pd.Series([1,3,5,np.nan,6,8])"
   ]
  },
  {
   "cell_type": "code",
   "execution_count": 4,
   "metadata": {
    "collapsed": false
   },
   "outputs": [
    {
     "data": {
      "text/plain": [
       "DatetimeIndex(['2013-01-01', '2013-01-02', '2013-01-03', '2013-01-04',\n",
       "               '2013-01-05', '2013-01-06'],\n",
       "              dtype='datetime64[ns]', freq='D')"
      ]
     },
     "execution_count": 4,
     "metadata": {},
     "output_type": "execute_result"
    }
   ],
   "source": [
    "# make a dataframe; date index\n",
    "dates = pd.date_range('20130101', periods=6)\n",
    "dates"
   ]
  },
  {
   "cell_type": "code",
   "execution_count": 5,
   "metadata": {
    "collapsed": false
   },
   "outputs": [
    {
     "data": {
      "text/html": [
       "<div>\n",
       "<table border=\"1\" class=\"dataframe\">\n",
       "  <thead>\n",
       "    <tr style=\"text-align: right;\">\n",
       "      <th></th>\n",
       "      <th>A</th>\n",
       "      <th>B</th>\n",
       "      <th>C</th>\n",
       "      <th>D</th>\n",
       "    </tr>\n",
       "  </thead>\n",
       "  <tbody>\n",
       "    <tr>\n",
       "      <th>2013-01-01</th>\n",
       "      <td>0.794155</td>\n",
       "      <td>0.057361</td>\n",
       "      <td>-0.568897</td>\n",
       "      <td>0.688838</td>\n",
       "    </tr>\n",
       "    <tr>\n",
       "      <th>2013-01-02</th>\n",
       "      <td>2.059673</td>\n",
       "      <td>-1.872538</td>\n",
       "      <td>-0.450496</td>\n",
       "      <td>-0.667979</td>\n",
       "    </tr>\n",
       "    <tr>\n",
       "      <th>2013-01-03</th>\n",
       "      <td>1.355420</td>\n",
       "      <td>0.814284</td>\n",
       "      <td>0.572758</td>\n",
       "      <td>0.433346</td>\n",
       "    </tr>\n",
       "    <tr>\n",
       "      <th>2013-01-04</th>\n",
       "      <td>1.882907</td>\n",
       "      <td>0.086599</td>\n",
       "      <td>-1.002096</td>\n",
       "      <td>-0.443995</td>\n",
       "    </tr>\n",
       "    <tr>\n",
       "      <th>2013-01-05</th>\n",
       "      <td>-1.127852</td>\n",
       "      <td>0.390151</td>\n",
       "      <td>-0.903296</td>\n",
       "      <td>0.747270</td>\n",
       "    </tr>\n",
       "    <tr>\n",
       "      <th>2013-01-06</th>\n",
       "      <td>-0.370765</td>\n",
       "      <td>0.716415</td>\n",
       "      <td>-0.856431</td>\n",
       "      <td>1.295398</td>\n",
       "    </tr>\n",
       "  </tbody>\n",
       "</table>\n",
       "</div>"
      ],
      "text/plain": [
       "                   A         B         C         D\n",
       "2013-01-01  0.794155  0.057361 -0.568897  0.688838\n",
       "2013-01-02  2.059673 -1.872538 -0.450496 -0.667979\n",
       "2013-01-03  1.355420  0.814284  0.572758  0.433346\n",
       "2013-01-04  1.882907  0.086599 -1.002096 -0.443995\n",
       "2013-01-05 -1.127852  0.390151 -0.903296  0.747270\n",
       "2013-01-06 -0.370765  0.716415 -0.856431  1.295398"
      ]
     },
     "execution_count": 5,
     "metadata": {},
     "output_type": "execute_result"
    }
   ],
   "source": [
    "df = pd.DataFrame(np.random.randn(6,4), index=dates, columns=list('ABCD'))\n",
    "df"
   ]
  },
  {
   "cell_type": "code",
   "execution_count": 7,
   "metadata": {
    "collapsed": false
   },
   "outputs": [
    {
     "data": {
      "text/html": [
       "<div>\n",
       "<table border=\"1\" class=\"dataframe\">\n",
       "  <thead>\n",
       "    <tr style=\"text-align: right;\">\n",
       "      <th></th>\n",
       "      <th>A</th>\n",
       "      <th>B</th>\n",
       "      <th>C</th>\n",
       "      <th>D</th>\n",
       "      <th>E</th>\n",
       "      <th>F</th>\n",
       "    </tr>\n",
       "  </thead>\n",
       "  <tbody>\n",
       "    <tr>\n",
       "      <th>0</th>\n",
       "      <td>1.0</td>\n",
       "      <td>2013-01-02</td>\n",
       "      <td>1.0</td>\n",
       "      <td>3</td>\n",
       "      <td>test</td>\n",
       "      <td>foo</td>\n",
       "    </tr>\n",
       "    <tr>\n",
       "      <th>1</th>\n",
       "      <td>1.0</td>\n",
       "      <td>2013-01-02</td>\n",
       "      <td>1.0</td>\n",
       "      <td>3</td>\n",
       "      <td>train</td>\n",
       "      <td>foo</td>\n",
       "    </tr>\n",
       "    <tr>\n",
       "      <th>2</th>\n",
       "      <td>1.0</td>\n",
       "      <td>2013-01-02</td>\n",
       "      <td>1.0</td>\n",
       "      <td>3</td>\n",
       "      <td>test</td>\n",
       "      <td>foo</td>\n",
       "    </tr>\n",
       "    <tr>\n",
       "      <th>3</th>\n",
       "      <td>1.0</td>\n",
       "      <td>2013-01-02</td>\n",
       "      <td>1.0</td>\n",
       "      <td>3</td>\n",
       "      <td>train</td>\n",
       "      <td>foo</td>\n",
       "    </tr>\n",
       "  </tbody>\n",
       "</table>\n",
       "</div>"
      ],
      "text/plain": [
       "     A          B    C  D      E    F\n",
       "0  1.0 2013-01-02  1.0  3   test  foo\n",
       "1  1.0 2013-01-02  1.0  3  train  foo\n",
       "2  1.0 2013-01-02  1.0  3   test  foo\n",
       "3  1.0 2013-01-02  1.0  3  train  foo"
      ]
     },
     "execution_count": 7,
     "metadata": {},
     "output_type": "execute_result"
    }
   ],
   "source": [
    "# make a dataframe from a dictionary\n",
    "df2 = pd.DataFrame({ 'A' : 1.,\n",
    "                     'B' : pd.Timestamp('20130102'),\n",
    "                     'C' : pd.Series(1,index=list(range(4)),dtype='float32'),\n",
    "                     'D' : np.array([3] * 4,dtype='int32'),\n",
    "                     'E' : pd.Categorical([\"test\",\"train\",\"test\",\"train\"]),\n",
    "                     'F' : 'foo' })\n",
    "df2"
   ]
  },
  {
   "cell_type": "code",
   "execution_count": 8,
   "metadata": {
    "collapsed": false
   },
   "outputs": [
    {
     "data": {
      "text/plain": [
       "A           float64\n",
       "B    datetime64[ns]\n",
       "C           float32\n",
       "D             int32\n",
       "E          category\n",
       "F            object\n",
       "dtype: object"
      ]
     },
     "execution_count": 8,
     "metadata": {},
     "output_type": "execute_result"
    }
   ],
   "source": [
    "df2.dtypes"
   ]
  },
  {
   "cell_type": "code",
   "execution_count": null,
   "metadata": {
    "collapsed": true
   },
   "outputs": [],
   "source": [
    "# Viewing data"
   ]
  },
  {
   "cell_type": "code",
   "execution_count": 10,
   "metadata": {
    "collapsed": false
   },
   "outputs": [
    {
     "data": {
      "text/html": [
       "<div>\n",
       "<table border=\"1\" class=\"dataframe\">\n",
       "  <thead>\n",
       "    <tr style=\"text-align: right;\">\n",
       "      <th></th>\n",
       "      <th>A</th>\n",
       "      <th>B</th>\n",
       "      <th>C</th>\n",
       "      <th>D</th>\n",
       "    </tr>\n",
       "  </thead>\n",
       "  <tbody>\n",
       "    <tr>\n",
       "      <th>2013-01-05</th>\n",
       "      <td>-1.127852</td>\n",
       "      <td>0.390151</td>\n",
       "      <td>-0.903296</td>\n",
       "      <td>0.747270</td>\n",
       "    </tr>\n",
       "    <tr>\n",
       "      <th>2013-01-06</th>\n",
       "      <td>-0.370765</td>\n",
       "      <td>0.716415</td>\n",
       "      <td>-0.856431</td>\n",
       "      <td>1.295398</td>\n",
       "    </tr>\n",
       "  </tbody>\n",
       "</table>\n",
       "</div>"
      ],
      "text/plain": [
       "                   A         B         C         D\n",
       "2013-01-05 -1.127852  0.390151 -0.903296  0.747270\n",
       "2013-01-06 -0.370765  0.716415 -0.856431  1.295398"
      ]
     },
     "execution_count": 10,
     "metadata": {},
     "output_type": "execute_result"
    }
   ],
   "source": [
    "df.head()\n",
    "# or\n",
    "df.tail(2)"
   ]
  },
  {
   "cell_type": "code",
   "execution_count": 11,
   "metadata": {
    "collapsed": false
   },
   "outputs": [
    {
     "data": {
      "text/plain": [
       "DatetimeIndex(['2013-01-01', '2013-01-02', '2013-01-03', '2013-01-04',\n",
       "               '2013-01-05', '2013-01-06'],\n",
       "              dtype='datetime64[ns]', freq='D')"
      ]
     },
     "execution_count": 11,
     "metadata": {},
     "output_type": "execute_result"
    }
   ],
   "source": [
    "# Inspecting df elements\n",
    "df.index"
   ]
  },
  {
   "cell_type": "code",
   "execution_count": 12,
   "metadata": {
    "collapsed": false
   },
   "outputs": [
    {
     "data": {
      "text/plain": [
       "Index(['A', 'B', 'C', 'D'], dtype='object')"
      ]
     },
     "execution_count": 12,
     "metadata": {},
     "output_type": "execute_result"
    }
   ],
   "source": [
    "df.columns"
   ]
  },
  {
   "cell_type": "code",
   "execution_count": 13,
   "metadata": {
    "collapsed": false
   },
   "outputs": [
    {
     "data": {
      "text/plain": [
       "array([[ 0.79415488,  0.05736115, -0.5688972 ,  0.68883842],\n",
       "       [ 2.05967256, -1.87253842, -0.45049553, -0.66797868],\n",
       "       [ 1.35542021,  0.81428398,  0.5727585 ,  0.43334604],\n",
       "       [ 1.88290675,  0.08659897, -1.00209564, -0.44399475],\n",
       "       [-1.12785187,  0.3901511 , -0.90329621,  0.74726954],\n",
       "       [-0.37076508,  0.71641488, -0.85643061,  1.29539799]])"
      ]
     },
     "execution_count": 13,
     "metadata": {},
     "output_type": "execute_result"
    }
   ],
   "source": [
    "df.values"
   ]
  },
  {
   "cell_type": "code",
   "execution_count": 15,
   "metadata": {
    "collapsed": true
   },
   "outputs": [],
   "source": [
    "# stats"
   ]
  },
  {
   "cell_type": "code",
   "execution_count": 16,
   "metadata": {
    "collapsed": false
   },
   "outputs": [
    {
     "data": {
      "text/html": [
       "<div>\n",
       "<table border=\"1\" class=\"dataframe\">\n",
       "  <thead>\n",
       "    <tr style=\"text-align: right;\">\n",
       "      <th></th>\n",
       "      <th>A</th>\n",
       "      <th>B</th>\n",
       "      <th>C</th>\n",
       "      <th>D</th>\n",
       "    </tr>\n",
       "  </thead>\n",
       "  <tbody>\n",
       "    <tr>\n",
       "      <th>count</th>\n",
       "      <td>6.000000</td>\n",
       "      <td>6.000000</td>\n",
       "      <td>6.000000</td>\n",
       "      <td>6.000000</td>\n",
       "    </tr>\n",
       "    <tr>\n",
       "      <th>mean</th>\n",
       "      <td>0.765590</td>\n",
       "      <td>0.032045</td>\n",
       "      <td>-0.534743</td>\n",
       "      <td>0.342146</td>\n",
       "    </tr>\n",
       "    <tr>\n",
       "      <th>std</th>\n",
       "      <td>1.276573</td>\n",
       "      <td>0.983825</td>\n",
       "      <td>0.581817</td>\n",
       "      <td>0.753617</td>\n",
       "    </tr>\n",
       "    <tr>\n",
       "      <th>min</th>\n",
       "      <td>-1.127852</td>\n",
       "      <td>-1.872538</td>\n",
       "      <td>-1.002096</td>\n",
       "      <td>-0.667979</td>\n",
       "    </tr>\n",
       "    <tr>\n",
       "      <th>25%</th>\n",
       "      <td>-0.079535</td>\n",
       "      <td>0.064671</td>\n",
       "      <td>-0.891580</td>\n",
       "      <td>-0.224660</td>\n",
       "    </tr>\n",
       "    <tr>\n",
       "      <th>50%</th>\n",
       "      <td>1.074788</td>\n",
       "      <td>0.238375</td>\n",
       "      <td>-0.712664</td>\n",
       "      <td>0.561092</td>\n",
       "    </tr>\n",
       "    <tr>\n",
       "      <th>75%</th>\n",
       "      <td>1.751035</td>\n",
       "      <td>0.634849</td>\n",
       "      <td>-0.480096</td>\n",
       "      <td>0.732662</td>\n",
       "    </tr>\n",
       "    <tr>\n",
       "      <th>max</th>\n",
       "      <td>2.059673</td>\n",
       "      <td>0.814284</td>\n",
       "      <td>0.572758</td>\n",
       "      <td>1.295398</td>\n",
       "    </tr>\n",
       "  </tbody>\n",
       "</table>\n",
       "</div>"
      ],
      "text/plain": [
       "              A         B         C         D\n",
       "count  6.000000  6.000000  6.000000  6.000000\n",
       "mean   0.765590  0.032045 -0.534743  0.342146\n",
       "std    1.276573  0.983825  0.581817  0.753617\n",
       "min   -1.127852 -1.872538 -1.002096 -0.667979\n",
       "25%   -0.079535  0.064671 -0.891580 -0.224660\n",
       "50%    1.074788  0.238375 -0.712664  0.561092\n",
       "75%    1.751035  0.634849 -0.480096  0.732662\n",
       "max    2.059673  0.814284  0.572758  1.295398"
      ]
     },
     "execution_count": 16,
     "metadata": {},
     "output_type": "execute_result"
    }
   ],
   "source": [
    "df.describe()"
   ]
  },
  {
   "cell_type": "code",
   "execution_count": 17,
   "metadata": {
    "collapsed": false
   },
   "outputs": [
    {
     "data": {
      "text/html": [
       "<div>\n",
       "<table border=\"1\" class=\"dataframe\">\n",
       "  <thead>\n",
       "    <tr style=\"text-align: right;\">\n",
       "      <th></th>\n",
       "      <th>2013-01-01 00:00:00</th>\n",
       "      <th>2013-01-02 00:00:00</th>\n",
       "      <th>2013-01-03 00:00:00</th>\n",
       "      <th>2013-01-04 00:00:00</th>\n",
       "      <th>2013-01-05 00:00:00</th>\n",
       "      <th>2013-01-06 00:00:00</th>\n",
       "    </tr>\n",
       "  </thead>\n",
       "  <tbody>\n",
       "    <tr>\n",
       "      <th>A</th>\n",
       "      <td>0.794155</td>\n",
       "      <td>2.059673</td>\n",
       "      <td>1.355420</td>\n",
       "      <td>1.882907</td>\n",
       "      <td>-1.127852</td>\n",
       "      <td>-0.370765</td>\n",
       "    </tr>\n",
       "    <tr>\n",
       "      <th>B</th>\n",
       "      <td>0.057361</td>\n",
       "      <td>-1.872538</td>\n",
       "      <td>0.814284</td>\n",
       "      <td>0.086599</td>\n",
       "      <td>0.390151</td>\n",
       "      <td>0.716415</td>\n",
       "    </tr>\n",
       "    <tr>\n",
       "      <th>C</th>\n",
       "      <td>-0.568897</td>\n",
       "      <td>-0.450496</td>\n",
       "      <td>0.572758</td>\n",
       "      <td>-1.002096</td>\n",
       "      <td>-0.903296</td>\n",
       "      <td>-0.856431</td>\n",
       "    </tr>\n",
       "    <tr>\n",
       "      <th>D</th>\n",
       "      <td>0.688838</td>\n",
       "      <td>-0.667979</td>\n",
       "      <td>0.433346</td>\n",
       "      <td>-0.443995</td>\n",
       "      <td>0.747270</td>\n",
       "      <td>1.295398</td>\n",
       "    </tr>\n",
       "  </tbody>\n",
       "</table>\n",
       "</div>"
      ],
      "text/plain": [
       "   2013-01-01  2013-01-02  2013-01-03  2013-01-04  2013-01-05  2013-01-06\n",
       "A    0.794155    2.059673    1.355420    1.882907   -1.127852   -0.370765\n",
       "B    0.057361   -1.872538    0.814284    0.086599    0.390151    0.716415\n",
       "C   -0.568897   -0.450496    0.572758   -1.002096   -0.903296   -0.856431\n",
       "D    0.688838   -0.667979    0.433346   -0.443995    0.747270    1.295398"
      ]
     },
     "execution_count": 17,
     "metadata": {},
     "output_type": "execute_result"
    }
   ],
   "source": [
    "# transpose\n",
    "df.T"
   ]
  },
  {
   "cell_type": "code",
   "execution_count": 28,
   "metadata": {
    "collapsed": false
   },
   "outputs": [
    {
     "data": {
      "text/html": [
       "<div>\n",
       "<table border=\"1\" class=\"dataframe\">\n",
       "  <thead>\n",
       "    <tr style=\"text-align: right;\">\n",
       "      <th></th>\n",
       "      <th>D</th>\n",
       "      <th>C</th>\n",
       "      <th>B</th>\n",
       "      <th>A</th>\n",
       "    </tr>\n",
       "  </thead>\n",
       "  <tbody>\n",
       "    <tr>\n",
       "      <th>2013-01-01</th>\n",
       "      <td>0.688838</td>\n",
       "      <td>-0.568897</td>\n",
       "      <td>0.057361</td>\n",
       "      <td>0.794155</td>\n",
       "    </tr>\n",
       "    <tr>\n",
       "      <th>2013-01-02</th>\n",
       "      <td>-0.667979</td>\n",
       "      <td>-0.450496</td>\n",
       "      <td>-1.872538</td>\n",
       "      <td>2.059673</td>\n",
       "    </tr>\n",
       "    <tr>\n",
       "      <th>2013-01-03</th>\n",
       "      <td>0.433346</td>\n",
       "      <td>0.572758</td>\n",
       "      <td>0.814284</td>\n",
       "      <td>1.355420</td>\n",
       "    </tr>\n",
       "    <tr>\n",
       "      <th>2013-01-04</th>\n",
       "      <td>-0.443995</td>\n",
       "      <td>-1.002096</td>\n",
       "      <td>0.086599</td>\n",
       "      <td>1.882907</td>\n",
       "    </tr>\n",
       "    <tr>\n",
       "      <th>2013-01-05</th>\n",
       "      <td>0.747270</td>\n",
       "      <td>-0.903296</td>\n",
       "      <td>0.390151</td>\n",
       "      <td>-1.127852</td>\n",
       "    </tr>\n",
       "    <tr>\n",
       "      <th>2013-01-06</th>\n",
       "      <td>1.295398</td>\n",
       "      <td>-0.856431</td>\n",
       "      <td>0.716415</td>\n",
       "      <td>-0.370765</td>\n",
       "    </tr>\n",
       "  </tbody>\n",
       "</table>\n",
       "</div>"
      ],
      "text/plain": [
       "                   D         C         B         A\n",
       "2013-01-01  0.688838 -0.568897  0.057361  0.794155\n",
       "2013-01-02 -0.667979 -0.450496 -1.872538  2.059673\n",
       "2013-01-03  0.433346  0.572758  0.814284  1.355420\n",
       "2013-01-04 -0.443995 -1.002096  0.086599  1.882907\n",
       "2013-01-05  0.747270 -0.903296  0.390151 -1.127852\n",
       "2013-01-06  1.295398 -0.856431  0.716415 -0.370765"
      ]
     },
     "execution_count": 28,
     "metadata": {},
     "output_type": "execute_result"
    }
   ],
   "source": [
    "# sorting by axis; columns (axis 1) in reverse alphabetical order\n",
    "df.sort_index(axis=1, ascending=False)"
   ]
  },
  {
   "cell_type": "code",
   "execution_count": 29,
   "metadata": {
    "collapsed": false
   },
   "outputs": [
    {
     "data": {
      "text/html": [
       "<div>\n",
       "<table border=\"1\" class=\"dataframe\">\n",
       "  <thead>\n",
       "    <tr style=\"text-align: right;\">\n",
       "      <th></th>\n",
       "      <th>A</th>\n",
       "      <th>B</th>\n",
       "      <th>C</th>\n",
       "      <th>D</th>\n",
       "    </tr>\n",
       "  </thead>\n",
       "  <tbody>\n",
       "    <tr>\n",
       "      <th>2013-01-06</th>\n",
       "      <td>-0.370765</td>\n",
       "      <td>0.716415</td>\n",
       "      <td>-0.856431</td>\n",
       "      <td>1.295398</td>\n",
       "    </tr>\n",
       "    <tr>\n",
       "      <th>2013-01-05</th>\n",
       "      <td>-1.127852</td>\n",
       "      <td>0.390151</td>\n",
       "      <td>-0.903296</td>\n",
       "      <td>0.747270</td>\n",
       "    </tr>\n",
       "    <tr>\n",
       "      <th>2013-01-04</th>\n",
       "      <td>1.882907</td>\n",
       "      <td>0.086599</td>\n",
       "      <td>-1.002096</td>\n",
       "      <td>-0.443995</td>\n",
       "    </tr>\n",
       "    <tr>\n",
       "      <th>2013-01-03</th>\n",
       "      <td>1.355420</td>\n",
       "      <td>0.814284</td>\n",
       "      <td>0.572758</td>\n",
       "      <td>0.433346</td>\n",
       "    </tr>\n",
       "    <tr>\n",
       "      <th>2013-01-02</th>\n",
       "      <td>2.059673</td>\n",
       "      <td>-1.872538</td>\n",
       "      <td>-0.450496</td>\n",
       "      <td>-0.667979</td>\n",
       "    </tr>\n",
       "    <tr>\n",
       "      <th>2013-01-01</th>\n",
       "      <td>0.794155</td>\n",
       "      <td>0.057361</td>\n",
       "      <td>-0.568897</td>\n",
       "      <td>0.688838</td>\n",
       "    </tr>\n",
       "  </tbody>\n",
       "</table>\n",
       "</div>"
      ],
      "text/plain": [
       "                   A         B         C         D\n",
       "2013-01-06 -0.370765  0.716415 -0.856431  1.295398\n",
       "2013-01-05 -1.127852  0.390151 -0.903296  0.747270\n",
       "2013-01-04  1.882907  0.086599 -1.002096 -0.443995\n",
       "2013-01-03  1.355420  0.814284  0.572758  0.433346\n",
       "2013-01-02  2.059673 -1.872538 -0.450496 -0.667979\n",
       "2013-01-01  0.794155  0.057361 -0.568897  0.688838"
      ]
     },
     "execution_count": 29,
     "metadata": {},
     "output_type": "execute_result"
    }
   ],
   "source": [
    "# sorting by axis; rows (axis 0) in reverse date order\n",
    "df.sort_index(axis=0, ascending=False)"
   ]
  },
  {
   "cell_type": "code",
   "execution_count": 30,
   "metadata": {
    "collapsed": false
   },
   "outputs": [
    {
     "data": {
      "text/html": [
       "<div>\n",
       "<table border=\"1\" class=\"dataframe\">\n",
       "  <thead>\n",
       "    <tr style=\"text-align: right;\">\n",
       "      <th></th>\n",
       "      <th>A</th>\n",
       "      <th>B</th>\n",
       "      <th>C</th>\n",
       "      <th>D</th>\n",
       "    </tr>\n",
       "  </thead>\n",
       "  <tbody>\n",
       "    <tr>\n",
       "      <th>2013-01-03</th>\n",
       "      <td>1.355420</td>\n",
       "      <td>0.814284</td>\n",
       "      <td>0.572758</td>\n",
       "      <td>0.433346</td>\n",
       "    </tr>\n",
       "    <tr>\n",
       "      <th>2013-01-02</th>\n",
       "      <td>2.059673</td>\n",
       "      <td>-1.872538</td>\n",
       "      <td>-0.450496</td>\n",
       "      <td>-0.667979</td>\n",
       "    </tr>\n",
       "    <tr>\n",
       "      <th>2013-01-01</th>\n",
       "      <td>0.794155</td>\n",
       "      <td>0.057361</td>\n",
       "      <td>-0.568897</td>\n",
       "      <td>0.688838</td>\n",
       "    </tr>\n",
       "    <tr>\n",
       "      <th>2013-01-06</th>\n",
       "      <td>-0.370765</td>\n",
       "      <td>0.716415</td>\n",
       "      <td>-0.856431</td>\n",
       "      <td>1.295398</td>\n",
       "    </tr>\n",
       "    <tr>\n",
       "      <th>2013-01-05</th>\n",
       "      <td>-1.127852</td>\n",
       "      <td>0.390151</td>\n",
       "      <td>-0.903296</td>\n",
       "      <td>0.747270</td>\n",
       "    </tr>\n",
       "    <tr>\n",
       "      <th>2013-01-04</th>\n",
       "      <td>1.882907</td>\n",
       "      <td>0.086599</td>\n",
       "      <td>-1.002096</td>\n",
       "      <td>-0.443995</td>\n",
       "    </tr>\n",
       "  </tbody>\n",
       "</table>\n",
       "</div>"
      ],
      "text/plain": [
       "                   A         B         C         D\n",
       "2013-01-03  1.355420  0.814284  0.572758  0.433346\n",
       "2013-01-02  2.059673 -1.872538 -0.450496 -0.667979\n",
       "2013-01-01  0.794155  0.057361 -0.568897  0.688838\n",
       "2013-01-06 -0.370765  0.716415 -0.856431  1.295398\n",
       "2013-01-05 -1.127852  0.390151 -0.903296  0.747270\n",
       "2013-01-04  1.882907  0.086599 -1.002096 -0.443995"
      ]
     },
     "execution_count": 30,
     "metadata": {},
     "output_type": "execute_result"
    }
   ],
   "source": [
    "# sorting by values; by column C, numbers in descending order\n",
    "df.sort_values(by='C', ascending=False)"
   ]
  },
  {
   "cell_type": "code",
   "execution_count": null,
   "metadata": {
    "collapsed": true
   },
   "outputs": [],
   "source": [
    "# Selection\n",
    "# Note While standard Python / Numpy expressions for selecting and setting \n",
    "# are intuitive for production code, we recommend the optimized pandas data access methods:\n",
    "# .at, .iat, .loc, .iloc and .ix."
   ]
  },
  {
   "cell_type": "code",
   "execution_count": null,
   "metadata": {
    "collapsed": true
   },
   "outputs": [],
   "source": [
    "# Upto"
   ]
  }
 ],
 "metadata": {
  "kernelspec": {
   "display_name": "Python [Root]",
   "language": "python",
   "name": "Python [Root]"
  },
  "language_info": {
   "codemirror_mode": {
    "name": "ipython",
    "version": 3
   },
   "file_extension": ".py",
   "mimetype": "text/x-python",
   "name": "python",
   "nbconvert_exporter": "python",
   "pygments_lexer": "ipython3",
   "version": "3.5.2"
  }
 },
 "nbformat": 4,
 "nbformat_minor": 0
}
